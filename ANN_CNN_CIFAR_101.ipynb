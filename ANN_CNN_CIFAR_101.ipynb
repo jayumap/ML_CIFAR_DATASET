{
  "cells": [
    {
      "cell_type": "markdown",
      "metadata": {
        "id": "Osg7qQEH2eBl"
      },
      "source": [
        "The CIFAR-10 dataset (Canadian Institute For Advanced Research) is a collection of images that are commonly used to train machine learning and computer vision algorithms. It is one of the most widely used datasets for machine learning research. The CIFAR-10 dataset contains 60,000 32x32 color images in 10 different classes. The 10 different classes represent airplanes, cars, birds, cats, deer, dogs, frogs, horses, ships, and trucks. There are 6,000 images of each class.\n",
        "There are in total 50000 train images and 10000 test images."
      ]
    },
    {
      "cell_type": "markdown",
      "metadata": {
        "id": "FU2_LtE-2eBs"
      },
      "source": [
        "Importing tensorflow and other modules like numpy. If the module is not present then you can download it using pip install tensorflow on the command prompt (for windows) or if you are using a jupyter notebook then simply type !pip install tensorflow in the cell and run it in order to download the module.\n",
        "    "
      ]
    },
    {
      "cell_type": "code",
      "execution_count": null,
      "metadata": {
        "colab": {
          "base_uri": "https://localhost:8080/"
        },
        "id": "EyXZbQ4BXoA-",
        "outputId": "1294dadf-19df-4c2e-c921-21444fe1344a"
      },
      "outputs": [
        {
          "output_type": "stream",
          "name": "stdout",
          "text": [
            "Downloading data from https://www.cs.toronto.edu/~kriz/cifar-10-python.tar.gz\n",
            "170498071/170498071 [==============================] - 3s 0us/step\n"
          ]
        }
      ],
      "source": [
        "import tensorflow as tf\n",
        "\n",
        "(x_train, y_train), (x_test, y_test) = tf.keras.datasets.cifar10.load_data()"
      ]
    },
    {
      "cell_type": "code",
      "execution_count": null,
      "metadata": {
        "colab": {
          "base_uri": "https://localhost:8080/"
        },
        "id": "bQIK1E2h2eBw",
        "outputId": "a85dbe55-211c-48f6-ac65-6abeb59df33f"
      },
      "outputs": [
        {
          "output_type": "stream",
          "name": "stdout",
          "text": [
            "2.9.2\n"
          ]
        }
      ],
      "source": [
        "print(tf.__version__)"
      ]
    },
    {
      "cell_type": "code",
      "execution_count": null,
      "metadata": {
        "colab": {
          "base_uri": "https://localhost:8080/"
        },
        "id": "5K6JlsfeYwig",
        "outputId": "b5db5a03-4410-4f8d-bf45-b339aa6294b1"
      },
      "outputs": [
        {
          "output_type": "stream",
          "name": "stdout",
          "text": [
            "(50000, 32, 32, 3)\n",
            "(50000, 1)\n",
            "(10000, 32, 32, 3)\n",
            "(10000, 1)\n"
          ]
        }
      ],
      "source": [
        "#50000 images having rgb 3\n",
        "print(x_train.shape)\n",
        "print(y_train.shape)\n",
        "print(x_test.shape)\n",
        "print(y_test.shape)"
      ]
    },
    {
      "cell_type": "code",
      "execution_count": null,
      "metadata": {
        "colab": {
          "base_uri": "https://localhost:8080/"
        },
        "id": "QsZGoXH4Y_S_",
        "outputId": "333a1c51-6a98-42de-ef3b-c7f061126df4"
      },
      "outputs": [
        {
          "output_type": "execute_result",
          "data": {
            "text/plain": [
              "array([0, 1, 2, 3, 4, 5, 6, 7, 8, 9], dtype=uint8)"
            ]
          },
          "metadata": {},
          "execution_count": 4
        }
      ],
      "source": [
        "import numpy as np\n",
        "np.unique(y_train)"
      ]
    },
    {
      "cell_type": "code",
      "execution_count": null,
      "metadata": {
        "id": "CRw-nou4ZImE"
      },
      "outputs": [],
      "source": [
        "#assigning labels\n",
        "label = ['airplane','automobile','bird','cat','deer','dog','frog','horse','ship','truck']"
      ]
    },
    {
      "cell_type": "code",
      "execution_count": null,
      "metadata": {
        "colab": {
          "base_uri": "https://localhost:8080/"
        },
        "id": "roA5KDKTZgGQ",
        "outputId": "e6be4505-a71e-45f0-aaf1-1091923285d5"
      },
      "outputs": [
        {
          "output_type": "execute_result",
          "data": {
            "text/plain": [
              "10"
            ]
          },
          "metadata": {},
          "execution_count": 6
        }
      ],
      "source": [
        "len(label)"
      ]
    },
    {
      "cell_type": "code",
      "execution_count": null,
      "metadata": {
        "colab": {
          "base_uri": "https://localhost:8080/",
          "height": 281
        },
        "id": "-W8_8mYxZhoK",
        "outputId": "19d91300-f04a-4781-b9d5-8370b96185f6"
      },
      "outputs": [
        {
          "output_type": "display_data",
          "data": {
            "text/plain": [
              "<Figure size 432x288 with 1 Axes>"
            ],
            "image/png": "[encoded data removed]"
          },
          "metadata": {
            "needs_background": "light"
          }
        }
      ],
      "source": [
        "import matplotlib.pyplot as plt\n",
        "i = np.random.randint(1,50000)\n",
        "op = label[y_train[i][0]]\n",
        "plt.imshow(x_train[i])\n",
        "plt.title(f'Image is {op}')\n",
        "plt.show()"
      ]
    },
    {
      "cell_type": "code",
      "execution_count": null,
      "metadata": {
        "id": "UEKrGJsAeE9v"
      },
      "outputs": [],
      "source": [
        "#pixel value is from 0 to 255\n",
        "x_train =x_train/255\n",
        "x_test = x_test/255"
      ]
    },
    {
      "cell_type": "code",
      "execution_count": null,
      "metadata": {
        "colab": {
          "base_uri": "https://localhost:8080/"
        },
        "id": "5rjr4tWoeaql",
        "outputId": "84c08cfe-1e97-40a3-ff22-5474487956ab"
      },
      "outputs": [
        {
          "output_type": "execute_result",
          "data": {
            "text/plain": [
              "3072"
            ]
          },
          "metadata": {},
          "execution_count": 8
        }
      ],
      "source": [
        "#no of inputs for the first layer \n",
        "#here 3072 neurons are present in first layer\n",
        "32*32*3"
      ]
    },
    {
      "cell_type": "code",
      "execution_count": null,
      "metadata": {
        "id": "GLMnk5rtZz7A"
      },
      "outputs": [],
      "source": [
        "# Build a ANN model\n",
        "#every model has input output and hidden layer\n",
        "# 4 layers: 2 hidden layers; one input and output layer\n",
        "ann = tf.keras.Sequential()#sequential model\n",
        "ann.add(tf.keras.layers.Flatten(input_shape=(32,32,3)))#first layer as flatten layer (INPUT LAYER)\n",
        "ann.add(tf.keras.layers.Dense(2048,activation='relu')) #HIDDEN LAYER 1 with 2048 neurons\n",
        "ann.add(tf.keras.layers.Dense(1024,activation='relu')) #HIDDEN LAYER 2 with 1024 neurons\n",
        "ann.add(tf.keras.layers.Dense(10,activation='softmax')) #OUTPUT LAYER with 10 layers as we have labelled 10 in label"
      ]
    },
    {
      "cell_type": "code",
      "execution_count": null,
      "metadata": {
        "colab": {
          "base_uri": "https://localhost:8080/"
        },
        "id": "U6m0ZZa5ewdM",
        "outputId": "bc66eb5f-fac3-4701-a081-d56cae5d4417"
      },
      "outputs": [
        {
          "output_type": "stream",
          "name": "stdout",
          "text": [
            "Model: \"sequential\"\n",
            "_________________________________________________________________\n",
            " Layer (type)                Output Shape              Param #   \n",
            "=================================================================\n",
            " flatten (Flatten)           (None, 3072)              0         \n",
            "                                                                 \n",
            " dense (Dense)               (None, 2048)              6293504   \n",
            "                                                                 \n",
            " dense_1 (Dense)             (None, 1024)              2098176   \n",
            "                                                                 \n",
            " dense_2 (Dense)             (None, 10)                10250     \n",
            "                                                                 \n",
            "=================================================================\n",
            "Total params: 8,401,930\n",
            "Trainable params: 8,401,930\n",
            "Non-trainable params: 0\n",
            "_________________________________________________________________\n"
          ]
        }
      ],
      "source": [
        "ann.summary()\n",
        "#dense layer meand every neuron is connected to all other neurons in the next layer i.e., all neurons are connected to one another"
      ]
    },
    {
      "cell_type": "code",
      "execution_count": null,
      "metadata": {
        "id": "ZQ39IGGSeyHA"
      },
      "outputs": [],
      "source": [
        "ann.compile(optimizer='adam',loss=tf.keras.losses.SparseCategoricalCrossentropy(),metrics=['accuracy'])"
      ]
    },
    {
      "cell_type": "code",
      "execution_count": null,
      "metadata": {
        "colab": {
          "base_uri": "https://localhost:8080/"
        },
        "id": "XGo5z5crfEP1",
        "outputId": "784f5cfe-4769-4b80-e2b6-b8b6b2dd1b12"
      },
      "outputs": [
        {
          "output_type": "stream",
          "name": "stdout",
          "text": [
            "Epoch 1/10\n",
            "1563/1563 [==============================] - 10s 5ms/step - loss: 1.8777 - accuracy: 0.3289 - val_loss: 1.7194 - val_accuracy: 0.3883\n",
            "Epoch 2/10\n",
            "1563/1563 [==============================] - 7s 4ms/step - loss: 1.6614 - accuracy: 0.4045 - val_loss: 1.6085 - val_accuracy: 0.4247\n",
            "Epoch 3/10\n",
            "1563/1563 [==============================] - 8s 5ms/step - loss: 1.5836 - accuracy: 0.4335 - val_loss: 1.5858 - val_accuracy: 0.4378\n",
            "Epoch 4/10\n",
            "1563/1563 [==============================] - 7s 4ms/step - loss: 1.5298 - accuracy: 0.4531 - val_loss: 1.5211 - val_accuracy: 0.4613\n",
            "Epoch 5/10\n",
            "1563/1563 [==============================] - 7s 4ms/step - loss: 1.4896 - accuracy: 0.4647 - val_loss: 1.5074 - val_accuracy: 0.4618\n",
            "Epoch 6/10\n",
            "1563/1563 [==============================] - 7s 4ms/step - loss: 1.4604 - accuracy: 0.4775 - val_loss: 1.5241 - val_accuracy: 0.4624\n",
            "Epoch 7/10\n",
            "1563/1563 [==============================] - 7s 5ms/step - loss: 1.4373 - accuracy: 0.4859 - val_loss: 1.5019 - val_accuracy: 0.4652\n",
            "Epoch 8/10\n",
            "1563/1563 [==============================] - 7s 4ms/step - loss: 1.4173 - accuracy: 0.4934 - val_loss: 1.4669 - val_accuracy: 0.4835\n",
            "Epoch 9/10\n",
            "1563/1563 [==============================] - 7s 4ms/step - loss: 1.3969 - accuracy: 0.4984 - val_loss: 1.4936 - val_accuracy: 0.4719\n",
            "Epoch 10/10\n",
            "1563/1563 [==============================] - 7s 4ms/step - loss: 1.3764 - accuracy: 0.5067 - val_loss: 1.4966 - val_accuracy: 0.4673\n"
          ]
        }
      ],
      "source": [
        "a=ann.fit(x_train,y_train,epochs=10,validation_data=(x_test,y_test))"
      ]
    },
    {
      "cell_type": "code",
      "source": [
        "%matplotlib inline\n",
        "import matplotlib.pyplot as plt\n",
        "plt.plot(a.history['accuracy'])\n",
        "plt.plot(a.history['val_accuracy'])\n",
        "plt.legend(['Training', 'Validation'])\n",
        "plt.title('Accuracy')\n",
        "plt.xlabel('Epochs');"
      ],
      "metadata": {
        "colab": {
          "base_uri": "https://localhost:8080/",
          "height": 295
        },
        "id": "W8y4wJ6I7Nf1",
        "outputId": "8e8f78be-a646-464e-ebbe-8235898cb6cc"
      },
      "execution_count": null,
      "outputs": [
        {
          "output_type": "display_data",
          "data": {
            "text/plain": [
              "<Figure size 432x288 with 1 Axes>"
            ],
            "image/png": "[encoded data removed]"
          },
          "metadata": {
            "needs_background": "light"
          }
        }
      ]
    },
    {
      "cell_type": "code",
      "execution_count": null,
      "metadata": {
        "id": "KdQCvosafWIq"
      },
      "outputs": [],
      "source": [
        "# Building a CNN model"
      ]
    },
    {
      "cell_type": "code",
      "execution_count": null,
      "metadata": {
        "id": "UEE3F98ig5Cy"
      },
      "outputs": [],
      "source": [
        "cnn1 = tf.keras.Sequential()\n",
        "cnn1.add(tf.keras.layers.Conv2D(32,kernel_size=(3,3),activation='relu',input_shape=(32,32,3)))\n",
        "cnn1.add(tf.keras.layers.MaxPooling2D())\n",
        "cnn1.add(tf.keras.layers.Conv2D(64,kernel_size=(3,3),activation='relu'))\n",
        "cnn1.add(tf.keras.layers.MaxPooling2D())\n",
        "cnn1.add(tf.keras.layers.Conv2D(32,kernel_size=(3,3),activation='relu'))\n",
        "cnn1.add(tf.keras.layers.Flatten())\n",
        "cnn1.add(tf.keras.layers.Dense(64,activation='relu'))\n",
        "cnn1.add(tf.keras.layers.Dense(10,activation='softmax'))"
      ]
    },
    {
      "cell_type": "code",
      "execution_count": null,
      "metadata": {
        "colab": {
          "base_uri": "https://localhost:8080/"
        },
        "id": "h6U2KvQ0iW8A",
        "outputId": "d7b2e1c6-ca5c-4252-cbd2-8c44fdb061f3"
      },
      "outputs": [
        {
          "output_type": "stream",
          "name": "stdout",
          "text": [
            "Model: \"sequential_1\"\n",
            "_________________________________________________________________\n",
            " Layer (type)                Output Shape              Param #   \n",
            "=================================================================\n",
            " conv2d (Conv2D)             (None, 30, 30, 32)        896       \n",
            "                                                                 \n",
            " max_pooling2d (MaxPooling2D  (None, 15, 15, 32)       0         \n",
            " )                                                               \n",
            "                                                                 \n",
            " conv2d_1 (Conv2D)           (None, 13, 13, 64)        18496     \n",
            "                                                                 \n",
            " max_pooling2d_1 (MaxPooling  (None, 6, 6, 64)         0         \n",
            " 2D)                                                             \n",
            "                                                                 \n",
            " conv2d_2 (Conv2D)           (None, 4, 4, 32)          18464     \n",
            "                                                                 \n",
            " flatten_1 (Flatten)         (None, 512)               0         \n",
            "                                                                 \n",
            " dense_3 (Dense)             (None, 64)                32832     \n",
            "                                                                 \n",
            " dense_4 (Dense)             (None, 10)                650       \n",
            "                                                                 \n",
            "=================================================================\n",
            "Total params: 71,338\n",
            "Trainable params: 71,338\n",
            "Non-trainable params: 0\n",
            "_________________________________________________________________\n"
          ]
        }
      ],
      "source": [
        "cnn1.summary()"
      ]
    },
    {
      "cell_type": "code",
      "execution_count": null,
      "metadata": {
        "id": "YHGcidmZiwuQ"
      },
      "outputs": [],
      "source": [
        "cnn1.compile(optimizer='adam',loss=tf.keras.losses.SparseCategoricalCrossentropy(),metrics=['accuracy'])"
      ]
    },
    {
      "cell_type": "code",
      "execution_count": null,
      "metadata": {
        "colab": {
          "base_uri": "https://localhost:8080/"
        },
        "id": "4SrOw3Q3iwuY",
        "outputId": "bac59355-3e64-4c2a-f287-4b81ccd32870"
      },
      "outputs": [
        {
          "output_type": "stream",
          "name": "stdout",
          "text": [
            "Epoch 1/10\n",
            "1563/1563 [==============================] - 13s 5ms/step - loss: 1.6051 - accuracy: 0.4145 - val_loss: 1.3479 - val_accuracy: 0.5051\n",
            "Epoch 2/10\n",
            "1563/1563 [==============================] - 7s 4ms/step - loss: 1.2409 - accuracy: 0.5572 - val_loss: 1.1753 - val_accuracy: 0.5880\n",
            "Epoch 3/10\n",
            "1563/1563 [==============================] - 7s 5ms/step - loss: 1.0880 - accuracy: 0.6156 - val_loss: 1.0735 - val_accuracy: 0.6211\n",
            "Epoch 4/10\n",
            "1563/1563 [==============================] - 7s 5ms/step - loss: 0.9858 - accuracy: 0.6529 - val_loss: 0.9972 - val_accuracy: 0.6506\n",
            "Epoch 5/10\n",
            "1563/1563 [==============================] - 7s 4ms/step - loss: 0.9118 - accuracy: 0.6805 - val_loss: 0.9316 - val_accuracy: 0.6706\n",
            "Epoch 6/10\n",
            "1563/1563 [==============================] - 7s 5ms/step - loss: 0.8608 - accuracy: 0.6975 - val_loss: 1.0002 - val_accuracy: 0.6588\n",
            "Epoch 7/10\n",
            "1563/1563 [==============================] - 7s 5ms/step - loss: 0.8135 - accuracy: 0.7148 - val_loss: 0.9415 - val_accuracy: 0.6707\n",
            "Epoch 8/10\n",
            "1563/1563 [==============================] - 7s 5ms/step - loss: 0.7802 - accuracy: 0.7237 - val_loss: 0.8801 - val_accuracy: 0.6910\n",
            "Epoch 9/10\n",
            "1563/1563 [==============================] - 6s 4ms/step - loss: 0.7460 - accuracy: 0.7412 - val_loss: 0.8549 - val_accuracy: 0.7061\n",
            "Epoch 10/10\n",
            "1563/1563 [==============================] - 6s 4ms/step - loss: 0.7190 - accuracy: 0.7479 - val_loss: 0.8770 - val_accuracy: 0.6984\n"
          ]
        }
      ],
      "source": [
        "h=cnn1.fit(x_train,y_train,epochs=10,validation_data=(x_test,y_test))"
      ]
    },
    {
      "cell_type": "code",
      "execution_count": null,
      "metadata": {
        "id": "gydEkaXMjf5n",
        "colab": {
          "base_uri": "https://localhost:8080/",
          "height": 295
        },
        "outputId": "fdc0b2f7-9a87-40b2-b55d-f0a1d717eacf"
      },
      "outputs": [
        {
          "output_type": "display_data",
          "data": {
            "text/plain": [
              "<Figure size 432x288 with 1 Axes>"
            ],
            "image/png": "[encoded data removed]"
          },
          "metadata": {
            "needs_background": "light"
          }
        }
      ],
      "source": [
        "%matplotlib inline\n",
        "import matplotlib.pyplot as plt\n",
        "plt.plot(h.history['accuracy'])\n",
        "plt.plot(h.history['val_accuracy'])\n",
        "plt.legend(['Training', 'Validation'])\n",
        "plt.title('Accuracy')\n",
        "plt.xlabel('Epochs');"
      ]
    },
    {
      "cell_type": "code",
      "source": [],
      "metadata": {
        "id": "u4QwaGWr_vzD"
      },
      "execution_count": null,
      "outputs": []
    }
  ],
  "metadata": {
    "accelerator": "GPU",
    "colab": {
      "provenance": []
    },
    "gpuClass": "standard",
    "kernelspec": {
      "display_name": "Python 3 (ipykernel)",
      "language": "python",
      "name": "python3"
    },
    "language_info": {
      "codemirror_mode": {
        "name": "ipython",
        "version": 3
      },
      "file_extension": ".py",
      "mimetype": "text/x-python",
      "name": "python",
      "nbconvert_exporter": "python",
      "pygments_lexer": "ipython3",
      "version": "3.9.12"
    }
  },
  "nbformat": 4,
  "nbformat_minor": 0
}